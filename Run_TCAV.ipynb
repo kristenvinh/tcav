{
  "cells": [
    {
      "cell_type": "markdown",
      "metadata": {
        "id": "v88fM4ciYYde"
      },
      "source": [
        "# Running TCAV"
      ]
    },
    {
      "cell_type": "markdown",
      "metadata": {
        "id": "5-RlU8wNYYdj"
      },
      "source": [
        "This notebook walks you through an example application of the TCAV library step-by-step to understand which human interpretable concepts (e.g. stripes, dots, zigzags) are important to the image classifier GoogleNet's (a.k.a. Inception v1) prediction of Zebras."
      ]
    },
    {
      "cell_type": "markdown",
      "metadata": {
        "id": "J1zIj8-aYYdj"
      },
      "source": [
        "## Install required packages\n",
        "\n",
        "To run through this notebook in the interim, you are encouraged to utilize a `virtualenv` or `conda` environment for installing and working with the required packages to avoid any dependency and compatability issues with different versions of packages."
      ]
    },
    {
      "cell_type": "code",
      "execution_count": 1,
      "metadata": {
        "id": "sIHww5CuYYdk",
        "tags": []
      },
      "outputs": [
        {
          "name": "stdout",
          "output_type": "stream",
          "text": [
            "Requirement already satisfied: tensorflow in /opt/anaconda3/lib/python3.10/site-packages (2.12.0)\n",
            "Requirement already satisfied: absl-py>=1.0.0 in /opt/anaconda3/lib/python3.10/site-packages (from tensorflow) (2.1.0)\n",
            "Requirement already satisfied: astunparse>=1.6.0 in /opt/anaconda3/lib/python3.10/site-packages (from tensorflow) (1.6.3)\n",
            "Requirement already satisfied: flatbuffers>=2.0 in /opt/anaconda3/lib/python3.10/site-packages (from tensorflow) (24.3.25)\n",
            "Requirement already satisfied: gast<=0.4.0,>=0.2.1 in /opt/anaconda3/lib/python3.10/site-packages (from tensorflow) (0.4.0)\n",
            "Requirement already satisfied: google-pasta>=0.1.1 in /opt/anaconda3/lib/python3.10/site-packages (from tensorflow) (0.2.0)\n",
            "Requirement already satisfied: h5py>=2.9.0 in /opt/anaconda3/lib/python3.10/site-packages (from tensorflow) (3.11.0)\n",
            "Requirement already satisfied: jax>=0.3.15 in /opt/anaconda3/lib/python3.10/site-packages (from tensorflow) (0.4.30)\n",
            "Requirement already satisfied: libclang>=13.0.0 in /opt/anaconda3/lib/python3.10/site-packages (from tensorflow) (18.1.1)\n",
            "Requirement already satisfied: numpy<1.24,>=1.22 in /opt/anaconda3/lib/python3.10/site-packages (from tensorflow) (1.23.5)\n",
            "Requirement already satisfied: opt-einsum>=2.3.2 in /opt/anaconda3/lib/python3.10/site-packages (from tensorflow) (3.3.0)\n",
            "Requirement already satisfied: packaging in /opt/anaconda3/lib/python3.10/site-packages (from tensorflow) (24.1)\n",
            "Requirement already satisfied: protobuf!=4.21.0,!=4.21.1,!=4.21.2,!=4.21.3,!=4.21.4,!=4.21.5,<5.0.0dev,>=3.20.3 in /opt/anaconda3/lib/python3.10/site-packages (from tensorflow) (3.20.3)\n",
            "Requirement already satisfied: setuptools in /opt/anaconda3/lib/python3.10/site-packages (from tensorflow) (75.1.0)\n",
            "Requirement already satisfied: six>=1.12.0 in /opt/anaconda3/lib/python3.10/site-packages (from tensorflow) (1.16.0)\n",
            "Requirement already satisfied: termcolor>=1.1.0 in /opt/anaconda3/lib/python3.10/site-packages (from tensorflow) (2.1.0)\n",
            "Requirement already satisfied: typing-extensions>=3.6.6 in /opt/anaconda3/lib/python3.10/site-packages (from tensorflow) (4.11.0)\n",
            "Requirement already satisfied: wrapt<1.15,>=1.11.0 in /opt/anaconda3/lib/python3.10/site-packages (from tensorflow) (1.14.1)\n",
            "Requirement already satisfied: grpcio<2.0,>=1.24.3 in /opt/anaconda3/lib/python3.10/site-packages (from tensorflow) (1.48.2)\n",
            "Requirement already satisfied: tensorboard<2.13,>=2.12 in /opt/anaconda3/lib/python3.10/site-packages (from tensorflow) (2.12.1)\n",
            "Requirement already satisfied: tensorflow-estimator<2.13,>=2.12.0 in /opt/anaconda3/lib/python3.10/site-packages (from tensorflow) (2.12.0)\n",
            "Requirement already satisfied: keras<2.13,>=2.12.0 in /opt/anaconda3/lib/python3.10/site-packages (from tensorflow) (2.12.0)\n",
            "Requirement already satisfied: wheel<1.0,>=0.23.0 in /opt/anaconda3/lib/python3.10/site-packages (from astunparse>=1.6.0->tensorflow) (0.35.1)\n",
            "Requirement already satisfied: jaxlib<=0.4.30,>=0.4.27 in /opt/anaconda3/lib/python3.10/site-packages (from jax>=0.3.15->tensorflow) (0.4.30)\n",
            "Requirement already satisfied: ml-dtypes>=0.2.0 in /opt/anaconda3/lib/python3.10/site-packages (from jax>=0.3.15->tensorflow) (0.4.1)\n",
            "Requirement already satisfied: scipy>=1.9 in /opt/anaconda3/lib/python3.10/site-packages (from jax>=0.3.15->tensorflow) (1.10.1)\n",
            "Requirement already satisfied: google-auth<3,>=1.6.3 in /opt/anaconda3/lib/python3.10/site-packages (from tensorboard<2.13,>=2.12->tensorflow) (2.29.0)\n",
            "Requirement already satisfied: google-auth-oauthlib<1.1,>=0.5 in /opt/anaconda3/lib/python3.10/site-packages (from tensorboard<2.13,>=2.12->tensorflow) (0.5.2)\n",
            "Requirement already satisfied: markdown>=2.6.8 in /opt/anaconda3/lib/python3.10/site-packages (from tensorboard<2.13,>=2.12->tensorflow) (3.4.1)\n",
            "Requirement already satisfied: requests<3,>=2.21.0 in /opt/anaconda3/lib/python3.10/site-packages (from tensorboard<2.13,>=2.12->tensorflow) (2.32.3)\n",
            "Requirement already satisfied: tensorboard-data-server<0.8.0,>=0.7.0 in /opt/anaconda3/lib/python3.10/site-packages (from tensorboard<2.13,>=2.12->tensorflow) (0.7.0)\n",
            "Requirement already satisfied: tensorboard-plugin-wit>=1.6.0 in /opt/anaconda3/lib/python3.10/site-packages (from tensorboard<2.13,>=2.12->tensorflow) (1.8.1)\n",
            "Requirement already satisfied: werkzeug>=1.0.1 in /opt/anaconda3/lib/python3.10/site-packages (from tensorboard<2.13,>=2.12->tensorflow) (3.0.3)\n",
            "Requirement already satisfied: cachetools<6.0,>=2.0.0 in /opt/anaconda3/lib/python3.10/site-packages (from google-auth<3,>=1.6.3->tensorboard<2.13,>=2.12->tensorflow) (5.3.3)\n",
            "Requirement already satisfied: pyasn1-modules>=0.2.1 in /opt/anaconda3/lib/python3.10/site-packages (from google-auth<3,>=1.6.3->tensorboard<2.13,>=2.12->tensorflow) (0.2.8)\n",
            "Requirement already satisfied: rsa<5,>=3.1.4 in /opt/anaconda3/lib/python3.10/site-packages (from google-auth<3,>=1.6.3->tensorboard<2.13,>=2.12->tensorflow) (4.7.2)\n",
            "Requirement already satisfied: requests-oauthlib>=0.7.0 in /opt/anaconda3/lib/python3.10/site-packages (from google-auth-oauthlib<1.1,>=0.5->tensorboard<2.13,>=2.12->tensorflow) (2.0.0)\n",
            "Requirement already satisfied: charset-normalizer<4,>=2 in /opt/anaconda3/lib/python3.10/site-packages (from requests<3,>=2.21.0->tensorboard<2.13,>=2.12->tensorflow) (2.0.4)\n",
            "Requirement already satisfied: idna<4,>=2.5 in /opt/anaconda3/lib/python3.10/site-packages (from requests<3,>=2.21.0->tensorboard<2.13,>=2.12->tensorflow) (3.7)\n",
            "Requirement already satisfied: urllib3<3,>=1.21.1 in /opt/anaconda3/lib/python3.10/site-packages (from requests<3,>=2.21.0->tensorboard<2.13,>=2.12->tensorflow) (2.2.2)\n",
            "Requirement already satisfied: certifi>=2017.4.17 in /opt/anaconda3/lib/python3.10/site-packages (from requests<3,>=2.21.0->tensorboard<2.13,>=2.12->tensorflow) (2024.8.30)\n",
            "Requirement already satisfied: MarkupSafe>=2.1.1 in /opt/anaconda3/lib/python3.10/site-packages (from werkzeug>=1.0.1->tensorboard<2.13,>=2.12->tensorflow) (2.1.3)\n",
            "Requirement already satisfied: pyasn1<0.5.0,>=0.4.6 in /opt/anaconda3/lib/python3.10/site-packages (from pyasn1-modules>=0.2.1->google-auth<3,>=1.6.3->tensorboard<2.13,>=2.12->tensorflow) (0.4.8)\n",
            "Requirement already satisfied: oauthlib>=3.0.0 in /opt/anaconda3/lib/python3.10/site-packages (from requests-oauthlib>=0.7.0->google-auth-oauthlib<1.1,>=0.5->tensorboard<2.13,>=2.12->tensorflow) (3.2.2)\n",
            "Note: you may need to restart the kernel to use updated packages.\n",
            "Requirement already satisfied: tcav in /opt/anaconda3/lib/python3.10/site-packages (0.2.2)\n",
            "Requirement already satisfied: matplotlib>=2.2.4 in /opt/anaconda3/lib/python3.10/site-packages (from tcav) (3.7.5)\n",
            "Requirement already satisfied: Pillow>=6.0.0 in /opt/anaconda3/lib/python3.10/site-packages (from tcav) (10.4.0)\n",
            "Requirement already satisfied: scikit-learn>=0.20.3 in /opt/anaconda3/lib/python3.10/site-packages (from tcav) (1.3.2)\n",
            "Requirement already satisfied: scipy>=1.2.1 in /opt/anaconda3/lib/python3.10/site-packages (from tcav) (1.10.1)\n",
            "Requirement already satisfied: protobuf>=3.10.0 in /opt/anaconda3/lib/python3.10/site-packages (from tcav) (3.20.3)\n",
            "Requirement already satisfied: contourpy>=1.0.1 in /opt/anaconda3/lib/python3.10/site-packages (from matplotlib>=2.2.4->tcav) (1.2.0)\n",
            "Requirement already satisfied: cycler>=0.10 in /opt/anaconda3/lib/python3.10/site-packages (from matplotlib>=2.2.4->tcav) (0.11.0)\n",
            "Requirement already satisfied: fonttools>=4.22.0 in /opt/anaconda3/lib/python3.10/site-packages (from matplotlib>=2.2.4->tcav) (4.51.0)\n",
            "Requirement already satisfied: kiwisolver>=1.0.1 in /opt/anaconda3/lib/python3.10/site-packages (from matplotlib>=2.2.4->tcav) (1.4.4)\n",
            "Requirement already satisfied: numpy<2,>=1.20 in /opt/anaconda3/lib/python3.10/site-packages (from matplotlib>=2.2.4->tcav) (1.23.5)\n",
            "Requirement already satisfied: packaging>=20.0 in /opt/anaconda3/lib/python3.10/site-packages (from matplotlib>=2.2.4->tcav) (24.1)\n",
            "Requirement already satisfied: pyparsing>=2.3.1 in /opt/anaconda3/lib/python3.10/site-packages (from matplotlib>=2.2.4->tcav) (3.1.2)\n",
            "Requirement already satisfied: python-dateutil>=2.7 in /opt/anaconda3/lib/python3.10/site-packages (from matplotlib>=2.2.4->tcav) (2.9.0.post0)\n",
            "Requirement already satisfied: joblib>=1.1.1 in /opt/anaconda3/lib/python3.10/site-packages (from scikit-learn>=0.20.3->tcav) (1.4.2)\n",
            "Requirement already satisfied: threadpoolctl>=2.0.0 in /opt/anaconda3/lib/python3.10/site-packages (from scikit-learn>=0.20.3->tcav) (3.5.0)\n",
            "Requirement already satisfied: six>=1.5 in /opt/anaconda3/lib/python3.10/site-packages (from python-dateutil>=2.7->matplotlib>=2.2.4->tcav) (1.16.0)\n",
            "Note: you may need to restart the kernel to use updated packages.\n"
          ]
        }
      ],
      "source": [
        "%pip install tensorflow\n",
        "%pip install tcav"
      ]
    },
    {
      "cell_type": "markdown",
      "metadata": {
        "id": "-NT91qkMYYdk"
      },
      "source": [
        "## Download example models and images\n",
        "\n",
        "Open a terminal and run the following commands:\n",
        "\n",
        "```\n",
        "cd tcav/tcav_examples/image_models/imagenet\n",
        "\n",
        "python download_and_make_datasets.py --source_dir='/Users/kristenvinh/Documents/GitHub/tcav/tcav/source-dir' --number_of_images_per_folder=50 --number_of_random_folders=3\n",
        "```\n",
        "\n",
        "This script will download the following content into separate folders into a directory you specify with the `--source_dir=` argument:\n",
        "\n",
        "**Images**\n",
        "*  ImageNet images for the target Zebra class\n",
        "*  [Broden dataset](http://netdissect.csail.mit.edu/) images for three concepts (e.g. striped, dotted, zigzagged)\n",
        "*  Random ImageNet class images used by TCAV for hypothesis testing of important concepts\n",
        "\n",
        "**Models**\n",
        "*  [Inception 5h model](https://github.com/Hvass-Labs/TensorFlow-Tutorials/blob/master/inception5h.py)\n",
        "*  [Mobilenet V2 model](https://github.com/tensorflow/models/blob/master/research/slim/nets/mobilenet_v1.md)"
      ]
    },
    {
      "cell_type": "markdown",
      "metadata": {
        "id": "rlrLUu4zYYdl"
      },
      "source": [
        "## Import extensions and libraries"
      ]
    },
    {
      "cell_type": "code",
      "execution_count": 4,
      "metadata": {
        "id": "sS1ZjSZjYYdl"
      },
      "outputs": [],
      "source": [
        "%load_ext autoreload\n",
        "%autoreload 2"
      ]
    },
    {
      "cell_type": "code",
      "execution_count": 5,
      "metadata": {
        "id": "U4yP9kDlYYdl"
      },
      "outputs": [],
      "source": [
        "import tcav.activation_generator as act_gen\n",
        "import tcav.cav as cav\n",
        "import tcav.model  as model\n",
        "import tcav.tcav as tcav\n",
        "import tcav.utils as utils\n",
        "import tcav.utils_plot as utils_plot # utils_plot requires matplotlib\n",
        "import os \n",
        "import tensorflow as tf"
      ]
    },
    {
      "cell_type": "markdown",
      "metadata": {
        "id": "yitpnXmEYYdm"
      },
      "source": [
        "## TCAV step-by-step\n",
        "\n",
        "You will walk through the following steps below:\n",
        "\n",
        "1. **Store example images in each folder** (you have this if you ran the above)\n",
        " * images for each concept\n",
        " * images for the class/labels of interest\n",
        " * random images that will be negative examples when learning CAVs (images that probably don't belong to any concepts)\n",
        "2. **Write a model wrapper** (below uses example from tcav/model.py)\n",
        " * an instance of  ModelWrapper abstract class (in model.py). This tells TCAV class (tcav.py) how to communicate with your model (e.g., getting internal tensors)\n",
        "3. **Retrieve model activations** (below uses example from tcav/activation_generator.py)\n",
        " * an instance of ActivationGeneratorInterface that tells TCAV class how to load example data and how to get activations from the model\n",
        "4. Run TCAV and visualize scores for important concepts."
      ]
    },
    {
      "cell_type": "markdown",
      "metadata": {
        "id": "zjjLK3pBYYdm"
      },
      "source": [
        "## Step 1: Store concept and target class images to local folders\n",
        "\n",
        "... and tell TCAV where they are.\n",
        "\n",
        "**source_dir**: where images of concepts, target class and random images (negative samples when learning CAVs) live. Each should be a sub-folder within this directory.\n",
        "\n",
        "Note that random image directories can be in any name. In this example, we are using `random500_0`, `random500_1`,.. for an arbitrary reason. \n",
        "\n",
        "You need roughly 50-200 images per concept and target class (10-20 pictures also tend to work, but 200 is pretty safe).\n",
        "\n",
        "\n",
        "**cav_dir**: directory to store CAVs (`None` if you don't want to store)\n",
        "\n",
        "**target, concept**: names of the target class (that you want to investigate) and concepts (strings) - these are folder names in source_dir\n",
        "\n",
        "**bottlenecks**: list of bottleneck names (intermediate layers in your model) that you want to use for TCAV. These names are defined in the model wrapper below.\n",
        "\n"
      ]
    },
    {
      "cell_type": "code",
      "execution_count": 6,
      "metadata": {
        "id": "EHabMnMNYYdm",
        "tags": []
      },
      "outputs": [
        {
          "name": "stdout",
          "output_type": "stream",
          "text": [
            "REMEMBER TO UPDATE YOUR_PATH (where images, models are)!\n"
          ]
        }
      ],
      "source": [
        "print ('REMEMBER TO UPDATE YOUR_PATH (where images, models are)!')\n",
        "\n",
        "# This is the name of your model wrapper (InceptionV3 and GoogleNet are provided in model.py)\n",
        "model_to_run = 'GoogleNet'  \n",
        "user = 'kristenvinh'\n",
        "# the name of the parent directory that results are stored (only if you want to cache)\n",
        "project_name = 'tcav_class_test'\n",
        "working_dir = \"/tmp/\" + user + '/' + project_name\n",
        "# where activations are stored (only if your act_gen_wrapper does so)\n",
        "activation_dir =  working_dir+ '/activations/'\n",
        "# where CAVs are stored. \n",
        "# You can say None if you don't wish to store any.\n",
        "cav_dir = working_dir + '/cavs/'\n",
        "# where the images live.\n",
        "\n",
        "# TODO: replace 'YOUR_PATH' with path to downloaded models and images. \n",
        "source_dir = 'tcav/source-dir'\n",
        "bottlenecks = [ 'mixed4c']  # @param \n",
        "      \n",
        "utils.make_dir_if_not_exists(activation_dir)\n",
        "utils.make_dir_if_not_exists(working_dir)\n",
        "utils.make_dir_if_not_exists(cav_dir)\n",
        "\n",
        "# this is a regularizer penalty parameter for linear classifier to get CAVs. \n",
        "alphas = [0.1]   \n",
        "\n",
        "target = 'zebra'  \n",
        "concepts = [\"dotted\",\"striped\",\"zigzagged\"]  \n"
      ]
    },
    {
      "cell_type": "markdown",
      "metadata": {
        "id": "u_DfQqsAYYdn"
      },
      "source": [
        "## Step 2: Write your model wrapper\n",
        "\n",
        "The next step is to tell TCAV how to communicate with your model. See `model.GoogleNetWrapper_public ` for details.\n",
        "\n",
        "You can define a subclass of ModelWrapper abstract class to do this. Let me walk you thru what each function does (tho they are pretty self-explanatory).  This wrapper includes a lot of the functions that you already have, for example, `get_prediction`.\n",
        "\n",
        "### 2.1: Tensors from the graph: bottleneck tensors and ends\n",
        "First, store your bottleneck tensors in `self.bottlenecks_tensors` as a dictionary. You only need bottlenecks that you are interested in running TCAV with. Similarly, fill in `self.ends` dictionary with `input`, `logit` and `prediction` tensors.\n",
        "\n",
        "### 2.2: Define loss\n",
        "Get your loss tensor, and assigned it to `self.loss`. This is what TCAV uses to take directional derivatives. \n",
        "\n",
        "While doing so, you would also want to set \n",
        "```python\n",
        "self.y_input \n",
        "```\n",
        "this simply is a tensorflow place holder for the target index in the logit layer (e.g., 0 index for a dog, 1 for a cat).\n",
        "For multi-class classification, typically something like this works:\n",
        "\n",
        "```python\n",
        "self.y_input = tf.placeholder(tf.int64, shape=[None])\n",
        "```\n",
        "\n",
        "For example, for a multiclass classifier, something like below would work. \n",
        "\n",
        "```python\n",
        "    # Construct gradient ops.\n",
        "    with g.as_default():\n",
        "      self.y_input = tf.placeholder(tf.int64, shape=[None])\n",
        "\n",
        "      self.pred = tf.expand_dims(self.ends['prediction'][0], 0)\n",
        "\n",
        "      self.loss = tf.reduce_mean(\n",
        "          tf.nn.softmax_cross_entropy_with_logits(\n",
        "              labels=tf.one_hot(self.y_input, len(self.labels)),\n",
        "              logits=self.pred))\n",
        "    self._make_gradient_tensors()\n",
        "```\n",
        "\n",
        "### 2.3: Call _make_gradient_tensors in __init__() of your wrapper\n",
        "```python\n",
        "_make_gradient_tensors()  \n",
        "```\n",
        "does what you expect - given the loss and bottleneck tensors defined above, it adds gradient tensors.\n",
        "\n",
        "### 2.4: Fill in labels, image shapes and a model name.\n",
        "Get the mapping from labels (strings) to indice in the logit layer (int) in a dictionary format.\n",
        "\n",
        "```python\n",
        "def id_to_label(self, idx)\n",
        "def label_to_id(self, label)\n",
        "```\n",
        "\n",
        "Set your input image shape at  `self.image_shape`\n",
        "\n",
        "\n",
        "Set your model name to `self.model_name`\n",
        "\n",
        "You are done with writing the model wrapper! See the two example model wrapers, InceptionV3 and Googlenet in `tcav/model.py`."
      ]
    },
    {
      "cell_type": "code",
      "execution_count": 7,
      "metadata": {
        "id": "hH-YQiEIYYdn",
        "tags": []
      },
      "outputs": [],
      "source": [
        "# Create TensorFlow session.\n",
        "sess = utils.create_session()\n",
        "\n",
        "# GRAPH_PATH is where the trained model is stored.\n",
        "GRAPH_PATH = source_dir + \"/inception5h/tensorflow_inception_graph.pb\"\n",
        "# LABEL_PATH is where the labels are stored. Each line contains one class, and they are ordered with respect to their index in \n",
        "# the logit layer. (yes, id_to_label function in the model wrapper reads from this file.)\n",
        "# For example, imagenet_comp_graph_label_strings.txt looks like:\n",
        "# dummy                                                                                      \n",
        "# kit fox\n",
        "# English setter\n",
        "# Siberian husky ...\n",
        "\n",
        "LABEL_PATH = source_dir + \"/inception5h/imagenet_comp_graph_label_strings.txt\"\n",
        "\n",
        "mymodel = model.GoogleNetWrapper_public(sess,\n",
        "                                        GRAPH_PATH,\n",
        "                                        LABEL_PATH)"
      ]
    },
    {
      "cell_type": "markdown",
      "metadata": {
        "id": "yY5kXbVAYYdo"
      },
      "source": [
        "## Step 3: Implement a class that returns activations (maybe with caching!)\n",
        "\n",
        "Lastly, you will implement a class of the ActivationGenerationInterface which TCAV uses to load example data for a given concept or target, call into your model wrapper and return activations. I pulled out this logic outside of mymodel because this step often takes the longest. By making it modular, you can cache your activations and/or parallelize your computations, as I have done in `ActivationGeneratorBase.process_and_load_activations` in `activation_generator.py`.\n",
        "\n",
        "\n",
        "The `process_and_load_activations` method of the activation generator must return a dictionary of activations that has concept or target name as  a first key, and the bottleneck name as a second key. So something like:\n",
        "\n",
        "```python\n",
        "{concept1: {bottleneck1: [[0.2, 0.1, ....]]},\n",
        "concept2: {bottleneck1: [[0.1, 0.02, ....]]},\n",
        "target1: {bottleneck1: [[0.02, 0.99, ....]]}\n",
        "```\n"
      ]
    },
    {
      "cell_type": "code",
      "execution_count": 8,
      "metadata": {
        "id": "ZmSyFxQbYYdo"
      },
      "outputs": [],
      "source": [
        "act_generator = act_gen.ImageActivationGenerator(mymodel, source_dir, activation_dir, max_examples=100)"
      ]
    },
    {
      "cell_type": "markdown",
      "metadata": {
        "id": "uABCWhp8YYdo"
      },
      "source": [
        "## Step 4: Run TCAV and visualize concept importance\n",
        "\n",
        "You are now ready to run TCAV! Let's do it.\n",
        "\n",
        "**num_random_exp**: number of experiments to confirm meaningful concept direction. TCAV will search for this many folders named `random500_0`, `random500_1`, etc. You can alternatively set the `random_concepts` keyword to be a list of folders of random concepts. Run at least 10-20 for meaningful tests. \n",
        "\n",
        "**random_counterpart**: as well as the above, you can optionally supply a single folder with random images as the \"positive set\" for statistical testing. Reduces computation time at the cost of less reliable random TCAV scores.\n"
      ]
    },
    {
      "cell_type": "code",
      "execution_count": 9,
      "metadata": {
        "id": "F2FVOGSvYYdp",
        "scrolled": false,
        "tags": []
      },
      "outputs": [
        {
          "name": "stdout",
          "output_type": "stream",
          "text": [
            "INFO:tensorflow:mixed4c ['dotted', 'random500_0'] zebra 0.1\n",
            "INFO:tensorflow:mixed4c ['dotted', 'random500_1'] zebra 0.1\n",
            "INFO:tensorflow:mixed4c ['dotted', 'random500_2'] zebra 0.1\n",
            "INFO:tensorflow:mixed4c ['striped', 'random500_0'] zebra 0.1\n",
            "INFO:tensorflow:mixed4c ['striped', 'random500_1'] zebra 0.1\n",
            "INFO:tensorflow:mixed4c ['striped', 'random500_2'] zebra 0.1\n",
            "INFO:tensorflow:mixed4c ['zigzagged', 'random500_0'] zebra 0.1\n",
            "INFO:tensorflow:mixed4c ['zigzagged', 'random500_1'] zebra 0.1\n",
            "INFO:tensorflow:mixed4c ['zigzagged', 'random500_2'] zebra 0.1\n",
            "INFO:tensorflow:mixed4c ['random500_0', 'random500_1'] zebra 0.1\n",
            "INFO:tensorflow:mixed4c ['random500_0', 'random500_2'] zebra 0.1\n",
            "INFO:tensorflow:mixed4c ['random500_1', 'random500_0'] zebra 0.1\n",
            "INFO:tensorflow:mixed4c ['random500_1', 'random500_2'] zebra 0.1\n",
            "INFO:tensorflow:mixed4c ['random500_2', 'random500_0'] zebra 0.1\n",
            "INFO:tensorflow:mixed4c ['random500_2', 'random500_1'] zebra 0.1\n",
            "INFO:tensorflow:TCAV will 15 params\n",
            "This may take a while... Go get coffee!\n",
            "INFO:tensorflow:running 15 params\n",
            "INFO:tensorflow:Running param 0 of 15\n",
            "INFO:tensorflow:running zebra ['dotted', 'random500_0']\n",
            "INFO:tensorflow:Loaded /tmp/kristenvinh/tcav_class_test/activations/acts_dotted_mixed4c shape (50, 14, 14, 512)\n",
            "INFO:tensorflow:Loaded /tmp/kristenvinh/tcav_class_test/activations/acts_random500_0_mixed4c shape (42, 14, 14, 512)\n",
            "INFO:tensorflow:Loaded /tmp/kristenvinh/tcav_class_test/activations/acts_zebra_mixed4c shape (35, 14, 14, 512)\n",
            "INFO:tensorflow:CAV already exists: /tmp/kristenvinh/tcav_class_test/cavs/dotted-random500_0-mixed4c-linear-0.1.pkl\n",
            "INFO:tensorflow:CAV accuracies: {'dotted': 1.0, 'random500_0': 1.0, 'overall': 1.0}\n",
            "INFO:tensorflow:Running param 1 of 15\n",
            "INFO:tensorflow:running zebra ['dotted', 'random500_1']\n",
            "INFO:tensorflow:Loaded /tmp/kristenvinh/tcav_class_test/activations/acts_dotted_mixed4c shape (50, 14, 14, 512)\n",
            "INFO:tensorflow:Loaded /tmp/kristenvinh/tcav_class_test/activations/acts_random500_1_mixed4c shape (9, 14, 14, 512)\n",
            "INFO:tensorflow:Loaded /tmp/kristenvinh/tcav_class_test/activations/acts_zebra_mixed4c shape (35, 14, 14, 512)\n",
            "INFO:tensorflow:CAV already exists: /tmp/kristenvinh/tcav_class_test/cavs/dotted-random500_1-mixed4c-linear-0.1.pkl\n",
            "INFO:tensorflow:CAV accuracies: {'dotted': 1.0, 'random500_1': 1.0, 'overall': 1.0}\n",
            "INFO:tensorflow:Running param 2 of 15\n",
            "INFO:tensorflow:running zebra ['dotted', 'random500_2']\n",
            "INFO:tensorflow:Loaded /tmp/kristenvinh/tcav_class_test/activations/acts_dotted_mixed4c shape (50, 14, 14, 512)\n",
            "INFO:tensorflow:/tmp/kristenvinh/tcav_class_test/activations/acts_random500_2_mixed4c does not exist, Making one...\n",
            "INFO:tensorflow:Loaded /tmp/kristenvinh/tcav_class_test/activations/acts_zebra_mixed4c shape (35, 14, 14, 512)\n",
            "INFO:tensorflow:Training CAV ['dotted', 'random500_2'] - mixed4c alpha 0.1\n",
            "INFO:tensorflow:training with alpha=0.1\n",
            "INFO:tensorflow:acc per class {'dotted': 1.0, 'random500_2': 0.9230769230769231, 'overall': 0.9629629629629629}\n",
            "INFO:tensorflow:CAV accuracies: {'dotted': 1.0, 'random500_2': 0.9230769230769231, 'overall': 0.9629629629629629}\n",
            "INFO:tensorflow:Running param 3 of 15\n",
            "INFO:tensorflow:running zebra ['striped', 'random500_0']\n",
            "INFO:tensorflow:/tmp/kristenvinh/tcav_class_test/activations/acts_striped_mixed4c does not exist, Making one...\n",
            "INFO:tensorflow:Loaded /tmp/kristenvinh/tcav_class_test/activations/acts_random500_0_mixed4c shape (42, 14, 14, 512)\n",
            "INFO:tensorflow:Loaded /tmp/kristenvinh/tcav_class_test/activations/acts_zebra_mixed4c shape (35, 14, 14, 512)\n",
            "INFO:tensorflow:Training CAV ['striped', 'random500_0'] - mixed4c alpha 0.1\n",
            "INFO:tensorflow:training with alpha=0.1\n",
            "INFO:tensorflow:acc per class {'striped': 1.0, 'random500_0': 1.0, 'overall': 1.0}\n",
            "INFO:tensorflow:CAV accuracies: {'striped': 1.0, 'random500_0': 1.0, 'overall': 1.0}\n",
            "INFO:tensorflow:Running param 4 of 15\n",
            "INFO:tensorflow:running zebra ['striped', 'random500_1']\n",
            "INFO:tensorflow:Loaded /tmp/kristenvinh/tcav_class_test/activations/acts_striped_mixed4c shape (50, 14, 14, 512)\n",
            "INFO:tensorflow:Loaded /tmp/kristenvinh/tcav_class_test/activations/acts_random500_1_mixed4c shape (9, 14, 14, 512)\n",
            "INFO:tensorflow:Loaded /tmp/kristenvinh/tcav_class_test/activations/acts_zebra_mixed4c shape (35, 14, 14, 512)\n",
            "INFO:tensorflow:Training CAV ['striped', 'random500_1'] - mixed4c alpha 0.1\n",
            "INFO:tensorflow:training with alpha=0.1\n",
            "INFO:tensorflow:acc per class {'striped': 1.0, 'random500_1': 1.0, 'overall': 1.0}\n",
            "INFO:tensorflow:CAV accuracies: {'striped': 1.0, 'random500_1': 1.0, 'overall': 1.0}\n",
            "INFO:tensorflow:Running param 5 of 15\n",
            "INFO:tensorflow:running zebra ['striped', 'random500_2']\n",
            "INFO:tensorflow:Loaded /tmp/kristenvinh/tcav_class_test/activations/acts_striped_mixed4c shape (50, 14, 14, 512)\n",
            "INFO:tensorflow:Loaded /tmp/kristenvinh/tcav_class_test/activations/acts_random500_2_mixed4c shape (40, 14, 14, 512)\n",
            "INFO:tensorflow:Loaded /tmp/kristenvinh/tcav_class_test/activations/acts_zebra_mixed4c shape (35, 14, 14, 512)\n",
            "INFO:tensorflow:Training CAV ['striped', 'random500_2'] - mixed4c alpha 0.1\n",
            "INFO:tensorflow:training with alpha=0.1\n",
            "INFO:tensorflow:acc per class {'striped': 0.9285714285714286, 'random500_2': 1.0, 'overall': 0.9629629629629629}\n",
            "INFO:tensorflow:CAV accuracies: {'striped': 0.9285714285714286, 'random500_2': 1.0, 'overall': 0.9629629629629629}\n",
            "INFO:tensorflow:Running param 6 of 15\n",
            "INFO:tensorflow:running zebra ['zigzagged', 'random500_0']\n",
            "INFO:tensorflow:/tmp/kristenvinh/tcav_class_test/activations/acts_zigzagged_mixed4c does not exist, Making one...\n",
            "INFO:tensorflow:Loaded /tmp/kristenvinh/tcav_class_test/activations/acts_random500_0_mixed4c shape (42, 14, 14, 512)\n",
            "INFO:tensorflow:Loaded /tmp/kristenvinh/tcav_class_test/activations/acts_zebra_mixed4c shape (35, 14, 14, 512)\n",
            "INFO:tensorflow:Training CAV ['zigzagged', 'random500_0'] - mixed4c alpha 0.1\n",
            "INFO:tensorflow:training with alpha=0.1\n",
            "INFO:tensorflow:acc per class {'zigzagged': 1.0, 'random500_0': 1.0, 'overall': 1.0}\n",
            "INFO:tensorflow:CAV accuracies: {'zigzagged': 1.0, 'random500_0': 1.0, 'overall': 1.0}\n",
            "INFO:tensorflow:Running param 7 of 15\n",
            "INFO:tensorflow:running zebra ['zigzagged', 'random500_1']\n",
            "INFO:tensorflow:Loaded /tmp/kristenvinh/tcav_class_test/activations/acts_zigzagged_mixed4c shape (50, 14, 14, 512)\n",
            "INFO:tensorflow:Loaded /tmp/kristenvinh/tcav_class_test/activations/acts_random500_1_mixed4c shape (9, 14, 14, 512)\n",
            "INFO:tensorflow:Loaded /tmp/kristenvinh/tcav_class_test/activations/acts_zebra_mixed4c shape (35, 14, 14, 512)\n",
            "INFO:tensorflow:Training CAV ['zigzagged', 'random500_1'] - mixed4c alpha 0.1\n",
            "INFO:tensorflow:training with alpha=0.1\n",
            "INFO:tensorflow:acc per class {'zigzagged': 0.6666666666666666, 'random500_1': 1.0, 'overall': 0.8333333333333334}\n",
            "INFO:tensorflow:CAV accuracies: {'zigzagged': 0.6666666666666666, 'random500_1': 1.0, 'overall': 0.8333333333333334}\n",
            "INFO:tensorflow:Running param 8 of 15\n",
            "INFO:tensorflow:running zebra ['zigzagged', 'random500_2']\n",
            "INFO:tensorflow:Loaded /tmp/kristenvinh/tcav_class_test/activations/acts_zigzagged_mixed4c shape (50, 14, 14, 512)\n",
            "INFO:tensorflow:Loaded /tmp/kristenvinh/tcav_class_test/activations/acts_random500_2_mixed4c shape (40, 14, 14, 512)\n",
            "INFO:tensorflow:Loaded /tmp/kristenvinh/tcav_class_test/activations/acts_zebra_mixed4c shape (35, 14, 14, 512)\n",
            "INFO:tensorflow:Training CAV ['zigzagged', 'random500_2'] - mixed4c alpha 0.1\n",
            "INFO:tensorflow:training with alpha=0.1\n",
            "INFO:tensorflow:acc per class {'zigzagged': 0.6923076923076923, 'random500_2': 1.0, 'overall': 0.8518518518518519}\n",
            "INFO:tensorflow:CAV accuracies: {'zigzagged': 0.6923076923076923, 'random500_2': 1.0, 'overall': 0.8518518518518519}\n",
            "INFO:tensorflow:Running param 9 of 15\n",
            "INFO:tensorflow:running zebra ['random500_0', 'random500_1']\n",
            "INFO:tensorflow:Loaded /tmp/kristenvinh/tcav_class_test/activations/acts_random500_0_mixed4c shape (42, 14, 14, 512)\n",
            "INFO:tensorflow:Loaded /tmp/kristenvinh/tcav_class_test/activations/acts_random500_1_mixed4c shape (9, 14, 14, 512)\n",
            "INFO:tensorflow:Loaded /tmp/kristenvinh/tcav_class_test/activations/acts_zebra_mixed4c shape (35, 14, 14, 512)\n",
            "INFO:tensorflow:Training CAV ['random500_0', 'random500_1'] - mixed4c alpha 0.1\n",
            "INFO:tensorflow:training with alpha=0.1\n",
            "INFO:tensorflow:acc per class {'random500_0': 1.0, 'random500_1': 0.3333333333333333, 'overall': 0.6666666666666666}\n",
            "INFO:tensorflow:CAV accuracies: {'random500_0': 1.0, 'random500_1': 0.3333333333333333, 'overall': 0.6666666666666666}\n",
            "INFO:tensorflow:Running param 10 of 15\n",
            "INFO:tensorflow:running zebra ['random500_0', 'random500_2']\n",
            "INFO:tensorflow:Loaded /tmp/kristenvinh/tcav_class_test/activations/acts_random500_0_mixed4c shape (42, 14, 14, 512)\n",
            "INFO:tensorflow:Loaded /tmp/kristenvinh/tcav_class_test/activations/acts_random500_2_mixed4c shape (40, 14, 14, 512)\n",
            "INFO:tensorflow:Loaded /tmp/kristenvinh/tcav_class_test/activations/acts_zebra_mixed4c shape (35, 14, 14, 512)\n",
            "INFO:tensorflow:Training CAV ['random500_0', 'random500_2'] - mixed4c alpha 0.1\n",
            "INFO:tensorflow:training with alpha=0.1\n",
            "INFO:tensorflow:acc per class {'random500_0': 0.15384615384615385, 'random500_2': 0.21428571428571427, 'overall': 0.18518518518518517}\n",
            "INFO:tensorflow:CAV accuracies: {'random500_0': 0.15384615384615385, 'random500_2': 0.21428571428571427, 'overall': 0.18518518518518517}\n",
            "INFO:tensorflow:Running param 11 of 15\n",
            "INFO:tensorflow:running zebra ['random500_1', 'random500_0']\n",
            "INFO:tensorflow:Loaded /tmp/kristenvinh/tcav_class_test/activations/acts_random500_1_mixed4c shape (9, 14, 14, 512)\n",
            "INFO:tensorflow:Loaded /tmp/kristenvinh/tcav_class_test/activations/acts_random500_0_mixed4c shape (42, 14, 14, 512)\n",
            "INFO:tensorflow:Loaded /tmp/kristenvinh/tcav_class_test/activations/acts_zebra_mixed4c shape (35, 14, 14, 512)\n",
            "INFO:tensorflow:Training CAV ['random500_1', 'random500_0'] - mixed4c alpha 0.1\n",
            "INFO:tensorflow:training with alpha=0.1\n",
            "INFO:tensorflow:acc per class {'random500_1': 0.3333333333333333, 'random500_0': 1.0, 'overall': 0.6666666666666666}\n",
            "INFO:tensorflow:CAV accuracies: {'random500_1': 0.3333333333333333, 'random500_0': 1.0, 'overall': 0.6666666666666666}\n",
            "INFO:tensorflow:Running param 12 of 15\n",
            "INFO:tensorflow:running zebra ['random500_1', 'random500_2']\n",
            "INFO:tensorflow:Loaded /tmp/kristenvinh/tcav_class_test/activations/acts_random500_1_mixed4c shape (9, 14, 14, 512)\n",
            "INFO:tensorflow:Loaded /tmp/kristenvinh/tcav_class_test/activations/acts_random500_2_mixed4c shape (40, 14, 14, 512)\n",
            "INFO:tensorflow:Loaded /tmp/kristenvinh/tcav_class_test/activations/acts_zebra_mixed4c shape (35, 14, 14, 512)\n",
            "INFO:tensorflow:Training CAV ['random500_1', 'random500_2'] - mixed4c alpha 0.1\n",
            "INFO:tensorflow:training with alpha=0.1\n",
            "INFO:tensorflow:acc per class {'random500_1': 0.3333333333333333, 'random500_2': 1.0, 'overall': 0.6666666666666666}\n",
            "INFO:tensorflow:CAV accuracies: {'random500_1': 0.3333333333333333, 'random500_2': 1.0, 'overall': 0.6666666666666666}\n",
            "INFO:tensorflow:Running param 13 of 15\n",
            "INFO:tensorflow:running zebra ['random500_2', 'random500_0']\n",
            "INFO:tensorflow:Loaded /tmp/kristenvinh/tcav_class_test/activations/acts_random500_2_mixed4c shape (40, 14, 14, 512)\n",
            "INFO:tensorflow:Loaded /tmp/kristenvinh/tcav_class_test/activations/acts_random500_0_mixed4c shape (42, 14, 14, 512)\n",
            "INFO:tensorflow:Loaded /tmp/kristenvinh/tcav_class_test/activations/acts_zebra_mixed4c shape (35, 14, 14, 512)\n",
            "INFO:tensorflow:Training CAV ['random500_2', 'random500_0'] - mixed4c alpha 0.1\n",
            "INFO:tensorflow:training with alpha=0.1\n",
            "INFO:tensorflow:acc per class {'random500_2': 0.2857142857142857, 'random500_0': 0.5384615384615384, 'overall': 0.4074074074074074}\n",
            "INFO:tensorflow:CAV accuracies: {'random500_2': 0.2857142857142857, 'random500_0': 0.5384615384615384, 'overall': 0.4074074074074074}\n",
            "INFO:tensorflow:Running param 14 of 15\n",
            "INFO:tensorflow:running zebra ['random500_2', 'random500_1']\n",
            "INFO:tensorflow:Loaded /tmp/kristenvinh/tcav_class_test/activations/acts_random500_2_mixed4c shape (40, 14, 14, 512)\n",
            "INFO:tensorflow:Loaded /tmp/kristenvinh/tcav_class_test/activations/acts_random500_1_mixed4c shape (9, 14, 14, 512)\n",
            "INFO:tensorflow:Loaded /tmp/kristenvinh/tcav_class_test/activations/acts_zebra_mixed4c shape (35, 14, 14, 512)\n",
            "INFO:tensorflow:Training CAV ['random500_2', 'random500_1'] - mixed4c alpha 0.1\n",
            "INFO:tensorflow:training with alpha=0.1\n",
            "INFO:tensorflow:acc per class {'random500_2': 0.3333333333333333, 'random500_1': 0.3333333333333333, 'overall': 0.3333333333333333}\n",
            "INFO:tensorflow:CAV accuracies: {'random500_2': 0.3333333333333333, 'random500_1': 0.3333333333333333, 'overall': 0.3333333333333333}\n",
            "INFO:tensorflow:Done running 15 params. Took 26.027737140655518 seconds...\n",
            "done!\n"
          ]
        }
      ],
      "source": [
        "import absl\n",
        "absl.logging.set_verbosity(0)\n",
        "num_random_exp=3\n",
        "## only running num_random_exp = 10 to save some time. The paper number are reported for 500 random runs. \n",
        "mytcav = tcav.TCAV(sess,\n",
        "                   target,\n",
        "                   concepts,\n",
        "                   bottlenecks,\n",
        "                   act_generator,\n",
        "                   alphas,\n",
        "                   cav_dir=cav_dir,\n",
        "                   num_random_exp=num_random_exp)#10)\n",
        "print ('This may take a while... Go get coffee!')\n",
        "results = mytcav.run(run_parallel=False)\n",
        "print ('done!')"
      ]
    },
    {
      "cell_type": "code",
      "execution_count": 10,
      "metadata": {
        "id": "hjKVKa80YYdp",
        "outputId": "ff3cbebe-4edd-4342-cede-24dc10ce9d99",
        "scrolled": false,
        "tags": []
      },
      "outputs": [
        {
          "name": "stdout",
          "output_type": "stream",
          "text": [
            "Class = zebra\n",
            "  Concept = dotted\n",
            "    Bottleneck = mixed4c. TCAV Score = 0.58 (+- 0.19), random was 0.51 (+- 0.21). p-val = 0.674 (not significant)\n",
            "  Concept = striped\n",
            "    Bottleneck = mixed4c. TCAV Score = 0.89 (+- 0.07), random was 0.51 (+- 0.21). p-val = 0.032 (significant)\n",
            "  Concept = zigzagged\n",
            "    Bottleneck = mixed4c. TCAV Score = 0.81 (+- 0.17), random was 0.51 (+- 0.21). p-val = 0.100 (not significant)\n",
            "{'mixed4c': {'bn_vals': [0.01, 0.8857142857142857, 0.01], 'bn_stds': [0, 0.0699854212223765, 0], 'significant': [False, True, False]}}\n"
          ]
        },
        {
          "data": {
            "image/png": "[encoded data removed]",
            "text/plain": [
              "<Figure size 640x480 with 1 Axes>"
            ]
          },
          "metadata": {},
          "output_type": "display_data"
        }
      ],
      "source": [
        "utils_plot.plot_results(results, num_random_exp=num_random_exp)"
      ]
    },
    {
      "cell_type": "code",
      "execution_count": null,
      "metadata": {},
      "outputs": [],
      "source": []
    }
  ],
  "metadata": {
    "colab": {
      "name": "Run TCAV.ipynb",
      "provenance": []
    },
    "kernelspec": {
      "display_name": "base",
      "language": "python",
      "name": "python3"
    },
    "language_info": {
      "codemirror_mode": {
        "name": "ipython",
        "version": 3
      },
      "file_extension": ".py",
      "mimetype": "text/x-python",
      "name": "python",
      "nbconvert_exporter": "python",
      "pygments_lexer": "ipython3",
      "version": "3.10.13"
    }
  },
  "nbformat": 4,
  "nbformat_minor": 0
}
